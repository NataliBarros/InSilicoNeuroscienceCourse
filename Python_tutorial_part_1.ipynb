{
 "cells": [
  {
   "cell_type": "markdown",
   "metadata": {},
   "source": [
    "# Python 2 tutorial (modules)"
   ]
  },
  {
   "cell_type": "markdown",
   "metadata": {},
   "source": [
    "Python is a programming language that is flexible and extendible. As a consequence, many libraries are now available. These libraries are provided as \"packages\" which contain modules that can be reused using an \"import module_name\" statement. Also, if you have not noted it yet, we are using a special \"version\" of Python, called IPython. Without it, you would not be able to use this nice browser interface provided by Jupyter (a migration of the \"Ipython notebooks\" project) to run code interactively. "
   ]
  },
  {
   "cell_type": "markdown",
   "metadata": {},
   "source": [
    "## Example data fitting and plotting with Numpy and Matplotlib"
   ]
  },
  {
   "cell_type": "code",
   "execution_count": null,
   "metadata": {},
   "outputs": [],
   "source": [
    "# Import Numpy (numeric library) and Matplotlib (plotting library).\n",
    "# See http://wiki.scipy.org/NumPy_for_Matlab_Users\n",
    "import numpy as np\n",
    "import matplotlib.pyplot as plt\n",
    "\n",
    "# IPython magic command: plots will be generated inline instead of in a separated window.\n",
    "# See http://ipython.org/ipython-doc/dev/interactive/magics.html\n",
    "%matplotlib inline\n",
    "\n",
    "# We have to call the data from a github repository\n",
    "# Load data - the data are loaded as a big string\n",
    "r = requests.get('https://raw.githubusercontent.com/NataliBarros/InSilicoNeuroscienceCourse/master/data1.txt')\n",
    "data = r.text\n",
    "\n",
    "# Organize data\n",
    "data_split = data.split('\\n')\n",
    "xdata = []\n",
    "ydata = []\n",
    "for d in range(1,len(data_split)-1):\n",
    "    xdata.append(float(data_split[d].split('\\t')[0]))\n",
    "    ydata.append(float(data_split[d].split('\\t')[1]))\n",
    "    \n",
    "\n",
    "# Plot data\n",
    "fig0, ax = plt.subplots(figsize=(12,8))\n",
    "ax.scatter(xdata, ydata)\n",
    "ax.set_xlabel('t [ms]')\n",
    "ax.set_ylabel('Y0')"
   ]
  },
  {
   "cell_type": "code",
   "execution_count": null,
   "metadata": {
    "collapsed": true
   },
   "outputs": [],
   "source": [
    "# We will use the function \"curve_fit\", that can be found in the module \"optimize\" of the library \"SciPy\"\n",
    "\n",
    "from scipy.optimize import curve_fit\n",
    "\n",
    "def expcurve(x, a):\n",
    "    '''A model'''\n",
    "    return 1 - a*np.exp(-x)\n",
    "\n",
    "def betterexpcurve(x, a, b, c):\n",
    "    '''A better model'''\n",
    "    return a - b*np.exp(-x*c)\n",
    "\n",
    "\n",
    "# Fit model\n",
    "popt, pcov = curve_fit(betterexpcurve, xdata, ydata)\n",
    "\n",
    "# Standard deviation errors on the parameters, see curve_fit documentation\n",
    "perr = np.sqrt(np.diag(pcov))\n",
    "\n",
    "# Generate data from the model\n",
    "x = np.linspace(min(xdata)-1, max(xdata)+1)\n",
    "y = betterexpcurve(x, *popt)\n",
    "\n",
    "# Plot raw data and model\n",
    "fig1, ax = plt.subplots(figsize=(12,8))\n",
    "ax.scatter(xdata, ydata, label='Raw Data')\n",
    "ax.plot(x,y, '--g', lw=3, label='Model')\n",
    "ax.set_xlabel('t [ms]')\n",
    "ax.set_ylabel('Y0')\n",
    "ax.legend(loc=2)"
   ]
  },
  {
   "cell_type": "code",
   "execution_count": null,
   "metadata": {
    "collapsed": true
   },
   "outputs": [],
   "source": []
  },
  {
   "cell_type": "code",
   "execution_count": null,
   "metadata": {
    "collapsed": true
   },
   "outputs": [],
   "source": []
  }
 ],
 "metadata": {
  "kernelspec": {
   "display_name": "Python 2",
   "language": "python",
   "name": "python2"
  },
  "language_info": {
   "codemirror_mode": {
    "name": "ipython",
    "version": 2
   },
   "file_extension": ".py",
   "mimetype": "text/x-python",
   "name": "python",
   "nbconvert_exporter": "python",
   "pygments_lexer": "ipython2",
   "version": "2.7.14"
  }
 },
 "nbformat": 4,
 "nbformat_minor": 1
}
