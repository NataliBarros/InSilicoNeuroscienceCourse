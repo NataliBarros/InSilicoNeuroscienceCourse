{
 "cells": [
  {
   "cell_type": "markdown",
   "metadata": {},
   "source": [
    "# Python 2 tutorial (modules)"
   ]
  },
  {
   "cell_type": "markdown",
   "metadata": {},
   "source": [
    "Python is a programming language that is flexible and extendible. As a consequence, many libraries are now available. These libraries are provided as \"packages\" which contain modules that can be reused using an \"import module_name\" statement. Also, if you have not noted it yet, we are using a special \"version\" of Python, called IPython. Without it, you would not be able to use this nice browser interface provided by Jupyter (a migration of the \"Ipython notebooks\" project) to run code interactively. "
   ]
  },
  {
   "cell_type": "markdown",
   "metadata": {},
   "source": [
    "## Example data fitting and plotting with Numpy and Matplotlib"
   ]
  },
  {
   "cell_type": "code",
   "execution_count": 1,
   "metadata": {},
   "outputs": [
    {
     "data": {
      "text/plain": [
       "<matplotlib.text.Text at 0x7fea5466a050>"
      ]
     },
     "execution_count": 1,
     "metadata": {},
     "output_type": "execute_result"
    },
    {
     "data": {
      "image/png": "iVBORw0KGgoAAAANSUhEUgAAAtQAAAHjCAYAAAADuoh4AAAABHNCSVQICAgIfAhkiAAAAAlwSFlz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\nAYEaAAAaEKgBAKABgRoAABr4/wEou0/Dv+kVTwAAAABJRU5ErkJggg==\n",
      "text/plain": [
       "<matplotlib.figure.Figure at 0x7fea8497e950>"
      ]
     },
     "metadata": {},
     "output_type": "display_data"
    }
   ],
   "source": [
    "# Import Numpy (numeric library) and Matplotlib (plotting library).\n",
    "# See http://wiki.scipy.org/NumPy_for_Matlab_Users\n",
    "import numpy as np\n",
    "import matplotlib.pyplot as plt\n",
    "import requests\n",
    "\n",
    "# IPython magic command: plots will be generated inline instead of in a separated window.\n",
    "# See http://ipython.org/ipython-doc/dev/interactive/magics.html\n",
    "%matplotlib inline\n",
    "\n",
    "# Load data\n",
    "# We have to call the data from a github repository\n"
    "# Load data, as a big string\n"
    "r = requests.get('https://raw.githubusercontent.com/NataliBarros/InSilicoNeuroscienceCourse/master/data1.txt')\n"
    "data = r.text\n"

    "# Organize data\n"
    "data_split = data.split('\n')\n"
    "xdata = []\n"
    "ydata = []\n"
    "for d in range(1,len(data_split)-1):\n"
          "xdata.append(float(data_split[d].split('\t')[0]))\n"
          "ydata.append(float(data_split[d].split('\t')[1]))\n"

    "\n",
    "# Plot data\n",
    "fig0, ax = plt.subplots(figsize=(12,8))\n",
    "ax.scatter(xdata, ydata)\n",
    "ax.set_xlabel('t [ms]')\n",
    "ax.set_ylabel('Y0')"
   ]
  },
  {
   "cell_type": "code",
   "execution_count": null,
   "metadata": {},
   "outputs": [],
   "source": [
    "# We will use the function \"curve_fit\", that can be found in the module \"optimize\" of the library \"SciPy\"\n",
    "\n",
    "from scipy.optimize import curve_fit\n",
    "\n",
    "def expcurve(x, a):\n",
    "    '''A model'''\n",
    "    return 1 - a*np.exp(-x)\n",
    "\n",
    "def betterexpcurve(x, a, b, c):\n",
    "    '''A better model'''\n",
    "    return a - b*np.exp(-x*c)\n",
    "\n",
    "\n",
    "# Fit model\n",
    "popt, pcov = curve_fit(betterexpcurve, xdata, ydata)\n",
    "\n",
    "# Standard deviation errors on the parameters, see curve_fit documentation\n",
    "perr = np.sqrt(np.diag(pcov))\n",
    "\n",
    "# Generate data from the model\n",
    "x = np.linspace(min(xdata)-1, max(xdata)+1)\n",
    "y = betterexpcurve(x, *popt)\n",
    "\n",
    "# Plot raw data and model\n",
    "fig1, ax = plt.subplots(figsize=(12,8))\n",
    "ax.scatter(xdata, ydata, label='Raw Data')\n",
    "ax.plot(x,y, '--g', lw=3, label='Model')\n",
    "ax.set_xlabel('t [ms]')\n",
    "ax.set_ylabel('Y0')\n",
    "ax.legend(loc=2)"
   ]
  },
  {
   "cell_type": "code",
   "execution_count": null,
   "metadata": {
    "collapsed": true
   },
   "outputs": [],
   "source": []
  },
  {
   "cell_type": "code",
   "execution_count": null,
   "metadata": {
    "collapsed": true
   },
   "outputs": [],
   "source": []
  }
 ],
 "metadata": {
  "kernelspec": {
   "display_name": "Python 2",
   "language": "python",
   "name": "python2"
  },
  "language_info": {
   "codemirror_mode": {
    "name": "ipython",
    "version": 2
   },
   "file_extension": ".py",
   "mimetype": "text/x-python",
   "name": "python",
   "nbconvert_exporter": "python",
   "pygments_lexer": "ipython2",
   "version": "2.7.14"
  }
 },
 "nbformat": 4,
 "nbformat_minor": 1
}
