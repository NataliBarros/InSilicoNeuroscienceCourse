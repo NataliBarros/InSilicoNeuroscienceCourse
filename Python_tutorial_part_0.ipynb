{
 "cells": [
  {
   "cell_type": "markdown",
   "metadata": {},
   "source": [
    "# Python 2 tutorial (introduction)"
   ]
  },
  {
   "cell_type": "markdown",
   "metadata": {
    "collapsed": true
   },
   "source": [
    "## Data types (numbers, strings, booleans)\n",
    "\n",
    "Python supports a variety of data types, some examples are docstring and comments, numbers (integers, floats), tuples, strings, booleans. "
   ]
  },
  {
   "cell_type": "code",
   "execution_count": 1,
   "metadata": {},
   "outputs": [],
   "source": [
    "\"\"\"\n",
    "This is a docstring. It's a good practice to document scripts \n",
    "by inserting such docstrings at their beginning.\n",
    "\"\"\"\n",
    "\n",
    "my_num1 = 4          # In this way we can write comments\n",
    "my_num2 = 4.0        # The \"=\" is used to do assign a value to a variable\n",
    "couple = (6,7)       # This type can have an arbitrary length. Try len(couple).\n",
    "\n",
    "name1 = 'What if: '  \n",
    "name2 = \"I add a string to a string?\" # Strings of characters can be defined with single or double quotes\n",
    "\n",
    "binary1 = True                        # Or 'False'."
   ]
  },
  {
   "cell_type": "code",
   "execution_count": 2,
   "metadata": {},
   "outputs": [
    {
     "name": "stdout",
     "output_type": "stream",
     "text": [
      "<type 'int'> <type 'float'> <type 'tuple'> <type 'str'> <type 'bool'>\n",
      "True\n",
      "True\n",
      "True\n"
     ]
    }
   ],
   "source": [
    "# In Python there is no need to define the types of variable before, but we can always ask of what type they are.\n",
    "print type(my_num1), type(my_num2), type(couple), type(name1), type(binary1)\n",
    "\n",
    "# And if we really need to check a type...\n",
    "print isinstance(my_num1, int)\n",
    "print isinstance(name1, str)\n",
    "print isinstance(binary1, bool)"
   ]
  },
  {
   "cell_type": "markdown",
   "metadata": {},
   "source": [
    "## Operations\n",
    "For each data type there are some operations that can be performed on them, like arythmetic operations. There are also some useful mechanisms, e.g. asking for the documentation of an object."
   ]
  },
  {
   "cell_type": "code",
   "execution_count": 3,
   "metadata": {},
   "outputs": [
    {
     "name": "stdout",
     "output_type": "stream",
     "text": [
      "8.0\n",
      "16\n",
      "What if: I add a string to a string?\n",
      "1.0\n",
      "1\n",
      "1.33333333333\n"
     ]
    }
   ],
   "source": [
    "print my_num1 + my_num2          # Float Addition\n",
    "print my_num1**2                 # Exponentiation           \n",
    "print name1 + name2              # String Concatenation\n",
    "\n",
    "print my_num1 / my_num2          # Float Division. my_num2 is float. All is good.\n",
    "\n",
    "print my_num1 / 3                # What if both are integers? Integer division!\n",
    "print float(my_num1) / 3         # Change type to float"
   ]
  },
  {
   "cell_type": "markdown",
   "metadata": {},
   "source": [
    "We can (of course) perform arithmetics on numbers... but also on strings."
   ]
  },
  {
   "cell_type": "code",
   "execution_count": 4,
   "metadata": {},
   "outputs": [
    {
     "name": "stdout",
     "output_type": "stream",
     "text": [
      "I ADD A STRING TO A STRING?\n",
      "['__add__', '__class__', '__contains__', '__delattr__', '__doc__', '__eq__', '__format__', '__ge__', '__getattribute__', '__getitem__', '__getnewargs__', '__getslice__', '__gt__', '__hash__', '__init__', '__le__', '__len__', '__lt__', '__mod__', '__mul__', '__ne__', '__new__', '__reduce__', '__reduce_ex__', '__repr__', '__rmod__', '__rmul__', '__setattr__', '__sizeof__', '__str__', '__subclasshook__', '_formatter_field_name_split', '_formatter_parser', 'capitalize', 'center', 'count', 'decode', 'encode', 'endswith', 'expandtabs', 'find', 'format', 'index', 'isalnum', 'isalpha', 'isdigit', 'islower', 'isspace', 'istitle', 'isupper', 'join', 'ljust', 'lower', 'lstrip', 'partition', 'replace', 'rfind', 'rindex', 'rjust', 'rpartition', 'rsplit', 'rstrip', 'split', 'splitlines', 'startswith', 'strip', 'swapcase', 'title', 'translate', 'upper', 'zfill']\n"
     ]
    },
    {
     "data": {
      "text/plain": [
       "'S.split([sep [,maxsplit]]) -> list of strings\\n\\nReturn a list of the words in the string S, using sep as the\\ndelimiter string.  If maxsplit is given, at most maxsplit\\nsplits are done. If sep is not specified or is None, any\\nwhitespace string is a separator and empty strings are removed\\nfrom the result.'"
      ]
     },
     "execution_count": 4,
     "metadata": {},
     "output_type": "execute_result"
    }
   ],
   "source": [
    "print name2.upper()             # Python can do many things with strings...\n",
    "print dir(name2)               # ...here is a long list of all of them\n",
    "name2.split.__doc__              "
   ]
  },
  {
   "cell_type": "markdown",
   "metadata": {
    "collapsed": true
   },
   "source": [
    "__Ex.1: What does the \"split\" mechanisms do? Try it.__"
   ]
  },
  {
   "cell_type": "code",
   "execution_count": null,
   "metadata": {},
   "outputs": [],
   "source": [
    "# Insert here your code\n"
   ]
  },
  {
   "cell_type": "markdown",
   "metadata": {},
   "source": [
    "## Lists\n",
    "\n",
    "Python lists are similar to arrays or vectors in other programming languages. They are ordered collections of elements and support indexing, among others properties."
   ]
  },
  {
   "cell_type": "code",
   "execution_count": null,
   "metadata": {},
   "outputs": [],
   "source": [
    "items = [my_num1, couple, name1, 3]    # This is a list, it can contain any type of data, included in square brackets\n",
    "numbers = range(10)                    # Note that Python starts to count from 0"
   ]
  },
  {
   "cell_type": "code",
   "execution_count": null,
   "metadata": {},
   "outputs": [],
   "source": [
    "print numbers"
   ]
  },
  {
   "cell_type": "code",
   "execution_count": null,
   "metadata": {},
   "outputs": [],
   "source": [
    "print items\n",
    "print items[1]\n",
    "print items[1][0]                      # Lists and tuples support indexing.\n",
    "print items[2][2:8]                    # What does the \":\" do on types that support indexing?\n",
    "                                       # What does this tell us about type \"string\"?"
   ]
  },
  {
   "cell_type": "code",
   "execution_count": null,
   "metadata": {},
   "outputs": [],
   "source": [
    "# Other examples on indexing\n",
    "print numbers[2:]            \n",
    "print numbers[:5]            \n",
    "print numbers[2:-2]          \n",
    "print numbers[2:-2:2]            \n",
    "print numbers[-2:2:-1]            \n"
   ]
  },
  {
   "cell_type": "markdown",
   "metadata": {},
   "source": [
    "__Ex. 2: How can we add an element to the end of a list? And in other position? Hint: try list + \".\" + TAB Key (only iPython support auto-completion).__"
   ]
  },
  {
   "cell_type": "code",
   "execution_count": null,
   "metadata": {},
   "outputs": [],
   "source": [
    "# Add an elemend to end of the list \"items\"\n",
    "# Add an element after the first element of the list"
   ]
  },
  {
   "cell_type": "code",
   "execution_count": null,
   "metadata": {},
   "outputs": [],
   "source": [
    "# Lists and tuples are very similar...\n",
    "\n",
    "numbers_mut = range(10,30,2)\n",
    "numbers_immut = (10,12,14,16,18,20,22,24,26,28)\n",
    "print numbers_mut\n",
    "print numbers_immut"
   ]
  },
  {
   "cell_type": "code",
   "execution_count": null,
   "metadata": {},
   "outputs": [],
   "source": [
    "# ...but not exactly the same\n",
    "\n",
    "numbers_mut[0] = 1\n",
    "print numbers_mut"
   ]
  },
  {
   "cell_type": "code",
   "execution_count": null,
   "metadata": {},
   "outputs": [],
   "source": [
    "numbers_immut[0] = 1                  "
   ]
  },
  {
   "cell_type": "markdown",
   "metadata": {},
   "source": [
    "Lists are mutable types (i.e. can be modified after creation), while tuples are immutable!"
   ]
  },
  {
   "cell_type": "markdown",
   "metadata": {},
   "source": [
    "## Iterations and conditions\n",
    "\n",
    "Lists, tuples and strings are examples of iterable types, that means that we can perform repetitive operations on them. \n",
    "Indentation is a syntatic element of Python. To write a \"for-loop\" the first line starts with \"for\" and must end with \":\". The following lines inside the loop must be indented. A condition statement follows the same syntactic rules."
   ]
  },
  {
   "cell_type": "code",
   "execution_count": null,
   "metadata": {},
   "outputs": [],
   "source": [
    "# For loop that checks the parity of a list of integers\n",
    "\n",
    "result = []\n",
    "\n",
    "for num in numbers:                      # In Python we iterate on the elements of an array (and not on the indexes)\n",
    "    if num % 2 == 0:                     # What is the \"%\" operation? Note the difference betweeen \"=\" and \"==\"\n",
    "        result.append(\"{0} is even\".format(num))\n",
    "    elif num % 2 == 1:\n",
    "        result.append(\"{0} is odd\".format(num))  # This is called \"string formatting\", it let us to include into a string \n",
    "                                         # a type that is not a string.\n",
    "            \n",
    "print result        "
   ]
  },
  {
   "cell_type": "code",
   "execution_count": null,
   "metadata": {},
   "outputs": [],
   "source": [
    "# To write more \"pythonic\" code we use (list) comprehension\n",
    "\n",
    "print [\"{0} is even\".format(num) if num % 2 == 0 else \"%d is odd\" %num for num in numbers]  "
   ]
  },
  {
   "cell_type": "markdown",
   "metadata": {},
   "source": [
    "## Dictionaries\n",
    "\n",
    "Dictionaries are another very useful data type. They are specified inside curly brackets and consist of pairs (or tuple) of key : values. Key and values can be of any type and not only strings as in language dictionaries."
   ]
  },
  {
   "cell_type": "code",
   "execution_count": null,
   "metadata": {},
   "outputs": [],
   "source": [
    "# Finally, some neuroscientic simple application: a dictionary of some electrophysiological proprierties (or features)\n",
    "# of a neuron.\n",
    "\n",
    "efel_features = {'spike_threshold': [-40, 'mV'], 'V_rest': [-65, 'mV'], \n",
    "                 'spike_frequency': [110, 'Hz'] , 'Time_to_first_spike': [70, 'ms']}\n",
    "\n",
    "print efel_features['V_rest']        # Like this we can ask for the value of a particular key, just as we look up \n",
    "                                     # the meaning of a word in a dictionary. Any other examples?\n",
    "print efel_features.keys()"
   ]
  },
  {
   "cell_type": "markdown",
   "metadata": {},
   "source": [
    "## Functions \n",
    "\n",
    "In programming, a function is a block of code that, usually, takes an input an returns an output. In Python, the first line of a function is preceeded by \"def\" and following lines are indented. The last line of a function defines the output variable(s), preceded by an optional \"return\" statement."
   ]
  },
  {
   "cell_type": "code",
   "execution_count": null,
   "metadata": {},
   "outputs": [],
   "source": [
    "def correct_voltage(features_dict, correction):\n",
    "    \n",
    "    \"\"\"\n",
    "    This is the usual way of documenting what a function does.\n",
    "    This function corrects voltage values in a dictionary of electrophysiological features.\n",
    "    \"\"\"\n",
    "    \n",
    "    new_dict = features_dict.copy()\n",
    "\n",
    "    for unit in new_dict.itervalues():    # Also dictionaries are iterable, we can iterate in their keys, values\n",
    "                                          # or keys-values pairs.\n",
    "        if unit[1] == 'mV':\n",
    "            unit[0] += correction\n",
    "            \n",
    "    return new_dict  \n",
    "    "
   ]
  },
  {
   "cell_type": "code",
   "execution_count": null,
   "metadata": {},
   "outputs": [],
   "source": [
    "# The following line calls the function with the appropriate number and types of arguments (inputs) and prints\n",
    "# the output. Calling the function in a script is not sufficient to see its output.\n",
    "\n",
    "new_dict = correct_voltage(efel_features,10) \n",
    "print new_dict"
   ]
  },
  {
   "cell_type": "code",
   "execution_count": null,
   "metadata": {},
   "outputs": [],
   "source": [
    "# The values keep changing if the snippet above is ran again and again! Python is broken!\n",
    "\n",
    "# dictionary's copy is shallow, i.e. it does not copy the objects that are included in the original, only points at them\n",
    "# we need a deepcopy in this case where everything is copied. No exceptions.\n",
    "\n",
    "from copy import deepcopy                   # function that deep copies an object\n",
    "\n",
    "def correct_voltage2(features_dict, correction):\n",
    "    \n",
    "    \"\"\"\n",
    "    This is the usual way of documenting what a function does.\n",
    "    This function corrects voltage values in a dictionary of electrophysiological features.\n",
    "    \"\"\"\n",
    "    \n",
    "    new_dict = deepcopy(features_dict)      # Copy object and all objects that it containts (e.g. dictionaries)\n",
    "\n",
    "    for unit in new_dict.itervalues():      # Also dictionaries are iterable, we can iterate in their keys, values\n",
    "                                            # or keys-values pairs.\n",
    "        if unit[1] == 'mV':\n",
    "            unit[0] += correction\n",
    "            \n",
    "    return new_dict  "
   ]
  },
  {
   "cell_type": "code",
   "execution_count": null,
   "metadata": {},
   "outputs": [],
   "source": [
    "new_dict = correct_voltage2(efel_features,10) \n",
    "print new_dict"
   ]
  },
  {
   "cell_type": "markdown",
   "metadata": {
    "collapsed": true
   },
   "source": [
    "## Classes\n",
    "\n",
    "Python is an \"objects-oriented\" programming languages. It means that user can define new classes. An object is an instance of a class. It includes a certain number of methods (= functions defined inside a class). In a class definition, the object itself is named \"self\". The self can have some attributes (= variable name inside a class definition) that can be retrieved from outside the class definition."
   ]
  },
  {
   "cell_type": "code",
   "execution_count": null,
   "metadata": {},
   "outputs": [],
   "source": [
    "class Neuron:                   # Class names usually starts with a capital letter\n",
    "    \n",
    "    \"\"\"\n",
    "    Simple class for creating a neuron.\n",
    "    \"\"\"\n",
    "    \n",
    "    def __init__(self, name):   # Methods defined with \"__something__\" are special methods. For example the __init__\n",
    "                                # method is automatically called when we instatiate an object. It doesn't accept \n",
    "                                # \"return\" statements.\n",
    "        self._name = name\n",
    "        self._morphology = {}   # It's a good practice to initialize all your internal variables even if you overwrite\n",
    "        self._biophysics = {}   # them afterwards\n",
    "    \n",
    "    def get_morphology(self):\n",
    "        return self._morphology\n",
    "    \n",
    "    def set_morphology(self, n_dend, n_branches):\n",
    "        self._morphology['soma'] = {'sections': range(1)}\n",
    "        self._morphology['dendrites'] = {'sections':[[dend for dend in range(n_dend)] for branch in range(n_branches)]}\n",
    "        self._morphology['axon'] = {'sections':range(5)}\n",
    "\n",
    "    def get_biophysics(self):\n",
    "        return self._biophysics\n",
    "        \n",
    "    def set_biophysics(self, channels):\n",
    "        \"\"\"\n",
    "        Distribute channels on neuron sections\n",
    "        \"\"\"\n",
    "        self._biophysics = {name:list(channels) for name in self._morphology.iterkeys()}           \n",
    "        self._biophysics['axon'] = channels[:2]\n",
    "        self._biophysics['dendrites'].remove('NaT')"
   ]
  },
  {
   "cell_type": "code",
   "execution_count": null,
   "metadata": {},
   "outputs": [],
   "source": [
    "# This is the instations of a class. It takes as arguments the ones specified in the __init__ method.\n",
    "\n",
    "my_neuron = Neuron('dummy_neuron')"
   ]
  },
  {
   "cell_type": "code",
   "execution_count": null,
   "metadata": {
    "scrolled": true
   },
   "outputs": [],
   "source": [
    "num_dend = 7\n",
    "num_branches = 15\n",
    "\n",
    "# We call a class method by specifing the object + '.' + method name. Note that the \"self\" inside the\n",
    "# class definition is replaced by the object name outside.\n",
    "\n",
    "print my_neuron.get_morphology()\n",
    "\n",
    "my_neuron.set_morphology(num_dend, num_branches)\n",
    "\n",
    "print my_neuron.get_morphology()"
   ]
  },
  {
   "cell_type": "code",
   "execution_count": null,
   "metadata": {},
   "outputs": [],
   "source": [
    "ion_channels = ['NaT', 'Kv3.1', 'CaT', 'KCa3.1','HCN']\n",
    "\n",
    "print my_neuron.get_biophysics()\n",
    "\n",
    "my_neuron.set_biophysics(ion_channels)\n",
    "\n",
    "print my_neuron.get_biophysics()"
   ]
  },
  {
   "cell_type": "code",
   "execution_count": null,
   "metadata": {},
   "outputs": [],
   "source": [
    "# Now you can have a more direct feeling of the \"dir\" and \"__doc__\" mechanisms\n",
    "\n",
    "print dir(my_neuron)\n",
    "print my_neuron.__doc__"
   ]
  },
  {
   "cell_type": "code",
   "execution_count": null,
   "metadata": {
    "collapsed": true
   },
   "outputs": [],
   "source": []
  },
  {
   "cell_type": "markdown",
   "metadata": {},
   "source": [
    "### Files"
   ]
  },
  {
   "cell_type": "code",
   "execution_count": 11,
   "metadata": {},
   "outputs": [],
   "source": [
    "with open('data1.txt', 'r') as f:\n",
    "    lines = f.readlines()\n",
    "    \n",
    "for line in lines:\n",
    "    \"\"\"\n",
    "    write code here to get the output like this:\n",
    "    \n",
    "    -nextline-\n",
    "    %t[ms] X \n",
    "    10 <type 'str'>\n",
    "    endofline movingon\n",
    "    -nextline-\n",
    "    8.58285828583 0.43492065931 \n",
    "    29 <type 'str'>\n",
    "    endofline movingon\n",
    "    ...\n",
    "    \n",
    "    \"\"\"\n",
    "    \n",
    "    "
   ]
  },
  {
   "cell_type": "code",
   "execution_count": 12,
   "metadata": {},
   "outputs": [],
   "source": [
    "with open('my_isn2018_1_output.txt', 'w') as g:\n",
    "    \n",
    "    g.write(str(123))\n",
    "    # write something else\n",
    "    \n",
    "    print >>g\n",
    "    print >>g, 123\n",
    "    #write something else\n",
    "    "
   ]
  },
  {
   "cell_type": "code",
   "execution_count": null,
   "metadata": {},
   "outputs": [],
   "source": [
    "with open('my_isn2018_1_output.txt', 'a+') as g:\n",
    "    \n",
    "    # write something to file here\n",
    "\n",
    "# write code to open file my_isn2018_1_output.txt and print its lines here \n",
    "\n"
   ]
  },
  {
   "cell_type": "code",
   "execution_count": null,
   "metadata": {},
   "outputs": [],
   "source": []
  }
 ],
 "metadata": {
  "kernelspec": {
   "display_name": "Python 2",
   "language": "python",
   "name": "python2"
  },
  "language_info": {
   "codemirror_mode": {
    "name": "ipython",
    "version": 2
   },
   "file_extension": ".py",
   "mimetype": "text/x-python",
   "name": "python",
   "nbconvert_exporter": "python",
   "pygments_lexer": "ipython2",
   "version": "2.7.14"
  }
 },
 "nbformat": 4,
 "nbformat_minor": 1
}
