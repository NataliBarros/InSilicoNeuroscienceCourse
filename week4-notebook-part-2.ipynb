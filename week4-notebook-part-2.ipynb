{
 "cells": [
  {
   "cell_type": "markdown",
   "metadata": {},
   "source": [
    "<a href=https://docs.google.com/uc?id=1xbyIyDFmryHaZ4HhVNDBeoMCZGyXCf10 target=\"_blank\"><img src=https://docs.google.com/uc?id=1xbyIyDFmryHaZ4HhVNDBeoMCZGyXCf10 \n",
    "width=\"150\" border=\"10\" /></a>"
   ]
  },
  {
   "cell_type": "markdown",
   "metadata": {},
   "source": [
    "# Blue Brain Nexus - A knowledge graph for data-driven science - Part 2"
   ]
  },
  {
   "cell_type": "markdown",
   "metadata": {},
   "source": [
    "## 5 - Exercises Part 2"
   ]
  },
  {
   "cell_type": "markdown",
   "metadata": {},
   "source": [
    "The following exercises guide you through the individual steps to help you bring the experimental data from Part 1 into Nexus and search for specific data types.\n",
    "\n",
    "<a href=https://docs.google.com/uc?id=14JkSRhwXlYQPAzqr9lEzwgcCQXOfAoOA target=\"_blank\"><img src=https://docs.google.com/uc?id=14JkSRhwXlYQPAzqr9lEzwgcCQXOfAoOA \n",
    "width=\"300\" border=\"10\" /></a>"
   ]
  },
  {
   "cell_type": "markdown",
   "metadata": {},
   "source": [
    "### 5-0 Installation of Pyxus, import of relevant classes and client setup\n",
    "\n",
    "Nexus exposes a RESTful interface over HTTP(S). To faciliate API interactions, the Nexus client [Pyxus](https://github.com/HumanBrainProject/pyxus) can be used to access and manage resources in Nexus.\n",
    "\n",
    "**Execute the following code line to install Pyxus and other dependencies:**"
   ]
  },
  {
   "cell_type": "code",
   "execution_count": null,
   "metadata": {},
   "outputs": [],
   "source": [
    "!pip install git+https://github.com/HumanBrainProject/pyxus@v0.5.1 pyyaml requests pygments"
   ]
  },
  {
   "cell_type": "markdown",
   "metadata": {},
   "source": [
    "**Import relevant Pyxus classes and required Python modules:**"
   ]
  },
  {
   "cell_type": "code",
   "execution_count": null,
   "metadata": {},
   "outputs": [],
   "source": [
    "import requests\n",
    "import yaml\n",
    "import json\n",
    "from pygments import highlight\n",
    "from pygments.lexers import JsonLdLexer\n",
    "from pygments.formatters import TerminalFormatter\n",
    "\n",
    "from pyxus.client import NexusClient\n",
    "from pyxus.resources.entity import (Organization, Domain, Schema, Instance)\n",
    "from openid_http_client.auth_client.access_token_client import AccessTokenClient"
   ]
  },
  {
   "cell_type": "markdown",
   "metadata": {},
   "source": [
    "**Helper function to format JSON data in a more reader-friendly way:**"
   ]
  },
  {
   "cell_type": "code",
   "execution_count": null,
   "metadata": {},
   "outputs": [],
   "source": [
    "def pprint(string):\n",
    "    json_obj = json.loads(string)\n",
    "    json_str = json.dumps(json_obj, indent=2)\n",
    "    lexer = JsonLdLexer()\n",
    "    print(highlight(json_str, lexer, TerminalFormatter()))"
   ]
  },
  {
   "cell_type": "markdown",
   "metadata": {},
   "source": [
    "#### Grab a token here (use your Collab credentials to log in): \n",
    "\n",
    "https://bbp-nexus.epfl.ch/staging/v0/oauth2/authorize?realm=HBP\n",
    "\n",
    "Copy the token (the string of numbers and letters between the quotation marks) and paste it as the value of the **token** variable below:\n",
    "\n",
    "\n",
    "<font color='red'>NOTE</font>: Replace everything within double quotes below with your token (including the \"<\" and \">\" sign)."
   ]
  },
  {
   "cell_type": "code",
   "execution_count": null,
   "metadata": {},
   "outputs": [],
   "source": [
    "token = \"<INSERT YOUR TOKEN HERE>\"\n",
    "auth_client = AccessTokenClient(token)"
   ]
  },
  {
   "cell_type": "markdown",
   "metadata": {},
   "source": [
    "#### Setup your Nexus client by executing the code below"
   ]
  },
  {
   "cell_type": "code",
   "execution_count": null,
   "metadata": {},
   "outputs": [],
   "source": [
    "client = NexusClient(scheme=\"https\", \n",
    "                     host=\"bbp-nexus.epfl.ch\", \n",
    "                     prefix=\"staging/v0\", \n",
    "                     alternative_namespace=\"https://bbp-nexus.epfl.ch\",\n",
    "                     auth_client=auth_client)"
   ]
  },
  {
   "cell_type": "markdown",
   "metadata": {},
   "source": [
    "### 5-1 Create a custom domain on Nexus using Pyxus\n",
    "\n",
    "In this tutorial, you will be working in the \"sandbox\" organization of Nexus. Nested inside organizations on Nexus are domains. To set up your own domain, input a custom name and decription for your domain below:"
   ]
  },
  {
   "cell_type": "code",
   "execution_count": null,
   "metadata": {},
   "outputs": [],
   "source": [
    "organization_name = \"sandbox\"\n",
    "domain_name = \"<PUT YOUR DOMAIN NAME HERE>\" # use lower case characters\n",
    "domain_description = \"<PUT YOUR DOMAIN DESCRIPTION HERE>\""
   ]
  },
  {
   "cell_type": "markdown",
   "metadata": {},
   "source": [
    "With the provided domain name and description, you can **create your domain** on Nexus:"
   ]
  },
  {
   "cell_type": "code",
   "execution_count": null,
   "metadata": {},
   "outputs": [],
   "source": [
    "your_domain = Domain.create_new(organization_name, domain_name, domain_description) \n",
    "client.domains.create(your_domain)"
   ]
  },
  {
   "cell_type": "markdown",
   "metadata": {},
   "source": [
    "You can access your domain identifier through the link provided after executing the code below:"
   ]
  },
  {
   "cell_type": "code",
   "execution_count": null,
   "metadata": {},
   "outputs": [],
   "source": [
    "your_domain = client.domains.read(organization_name, domain_name)\n",
    "print(your_domain.data[\"@id\"])"
   ]
  },
  {
   "cell_type": "markdown",
   "metadata": {},
   "source": [
    "You can also check out your newly created domain in the [Nexus Explorer](https://bbp-nexus.epfl.ch/staging/explorer/)"
   ]
  },
  {
   "cell_type": "markdown",
   "metadata": {},
   "source": [
    "### 5-2 Create and publish schemas for Subject, Neuron and Dataset"
   ]
  },
  {
   "cell_type": "markdown",
   "metadata": {},
   "source": [
    "Now that you have created your own domain in Nexus, you can create the **schemas for Subject, Neuron and Dataset**. Copy-paste the three schemas from week4-notebook-part-1.ipynb (from the [JSON editor online](https://jsoneditoronline.org/)) as the value of the respective variable below (replace everything, including the quotation marks):"
   ]
  },
  {
   "cell_type": "code",
   "execution_count": null,
   "metadata": {},
   "outputs": [],
   "source": [
    "subject_schema = \"<PASTE SUBJECT SCHEMA HERE>\""
   ]
  },
  {
   "cell_type": "code",
   "execution_count": null,
   "metadata": {},
   "outputs": [],
   "source": [
    "neuron_schema = \"<PASTE NEURON SCHEMA HERE>\""
   ]
  },
  {
   "cell_type": "code",
   "execution_count": null,
   "metadata": {},
   "outputs": [],
   "source": [
    "dataset_schema = \"<PASTE DATASET SCHEMA HERE>\""
   ]
  },
  {
   "cell_type": "markdown",
   "metadata": {},
   "source": [
    "**Repeat the following steps** for the Subject, Neuron and Dataset schema (adjust the schema_name and content variables accordingly):\n",
    "\n",
    "-----"
   ]
  },
  {
   "cell_type": "code",
   "execution_count": null,
   "metadata": {},
   "outputs": [],
   "source": [
    "schema_name = \"subject\"\n",
    "schema_version = \"v0.1.0\"\n",
    "content = subject_schema"
   ]
  },
  {
   "cell_type": "markdown",
   "metadata": {},
   "source": [
    "Run the following code to create a schema and store it in Nexus:"
   ]
  },
  {
   "cell_type": "code",
   "execution_count": null,
   "metadata": {},
   "outputs": [],
   "source": [
    "schema = Schema.create_new(organization=organization_name, \n",
    "                           domain=domain_name, \n",
    "                           schema=schema_name,\n",
    "                           version=schema_version, \n",
    "                           content=content)\n",
    "client.schemas.create(schema)"
   ]
  },
  {
   "cell_type": "markdown",
   "metadata": {},
   "source": [
    "Access the schema identifier of the schema you have just created:"
   ]
  },
  {
   "cell_type": "code",
   "execution_count": null,
   "metadata": {},
   "outputs": [],
   "source": [
    "schema = client.schemas.read(organization=organization_name, \n",
    "                             domain=domain_name, \n",
    "                             schema=schema_name, \n",
    "                             version=schema_version)\n",
    "print(\"The schema identifier is {}\".format(schema.data[\"@id\"]))"
   ]
  },
  {
   "cell_type": "markdown",
   "metadata": {},
   "source": [
    "To be able to submit data against your schema, it has to be published. To publish your schema, run the following code:"
   ]
  },
  {
   "cell_type": "code",
   "execution_count": null,
   "metadata": {},
   "outputs": [],
   "source": [
    "client.schemas.publish(entity=schema,publish=True)"
   ]
  },
  {
   "cell_type": "markdown",
   "metadata": {},
   "source": [
    "Check out your newly created and published schemas in [Nexus Explorer](https://bbp-nexus.epfl.ch/staging/explorer/)"
   ]
  },
  {
   "cell_type": "markdown",
   "metadata": {},
   "source": [
    "### 5-3 Create instances with prepared payloads"
   ]
  },
  {
   "cell_type": "markdown",
   "metadata": {},
   "source": [
    "Now that the three schemas needed for our data are stored and published, we can validate our data against those schemas and store them in Nexus. Copy-paste the data payloads from Part 1 and paste them as the value of the respective variable below (replace everything, including the quotation marks):\n",
    "\n",
    "<font color='red'>NOTE</font>: The value for the **\"@id\"** key of the **\"wasDerivedFrom\"** property in the neuron_metadata, morphology_metadata and electrophysiology_metadata need to be replaced with the Nexus identifier once the referenced data instance has been created (e.g. use the Nexus identifier of the subject as the value of the \"@id\" key of the \"wasDerivedFrom\" property in the neuron metadata; the Nexus identifier of your instances can be accessed through Nexus Explorer):"
   ]
  },
  {
   "cell_type": "code",
   "execution_count": null,
   "metadata": {},
   "outputs": [],
   "source": [
    "subject_metadata = \"<PASTE SUBJECT DATA HERE>\""
   ]
  },
  {
   "cell_type": "code",
   "execution_count": null,
   "metadata": {},
   "outputs": [],
   "source": [
    "neuron_metadata = \"<PASTE SUBJECT DATA HERE>\""
   ]
  },
  {
   "cell_type": "code",
   "execution_count": null,
   "metadata": {},
   "outputs": [],
   "source": [
    "morphology_metadata = \"<PASTE MORPHOLOGY DATASET DATA HERE>\""
   ]
  },
  {
   "cell_type": "code",
   "execution_count": null,
   "metadata": {},
   "outputs": [],
   "source": [
    "electrophysiology_metadata = \"<PASTE ELECTROPHYSIOLOGY DATASET DATA HERE>\""
   ]
  },
  {
   "cell_type": "markdown",
   "metadata": {},
   "source": [
    "**Repeat the following steps** for the Subject, Neuron, Morphology and Electrophysiology metadata (adjust the schema_name and content variables accordingly, e.g. for the neuron metadata, change the schema_name variable value to \"neuron\"):\n",
    "\n",
    "-----"
   ]
  },
  {
   "cell_type": "markdown",
   "metadata": {},
   "source": [
    "Run the following code to create your instances and store them in Nexus:"
   ]
  },
  {
   "cell_type": "code",
   "execution_count": null,
   "metadata": {},
   "outputs": [],
   "source": [
    "subject_instance = Instance.create_new(organization=organization_name, \n",
    "                               domain=domain_name, \n",
    "                               schema=\"subject\", \n",
    "                               version=\"v0.1.0\", \n",
    "                               content=subject_metadata)\n",
    "client.instances.create(subject_instance)"
   ]
  },
  {
   "cell_type": "code",
   "execution_count": null,
   "metadata": {},
   "outputs": [],
   "source": [
    "neuron_instance = Instance.create_new(organization=organization_name, \n",
    "                               domain=domain_name, \n",
    "                               schema=\"neuron\", \n",
    "                               version=\"v0.1.0\", \n",
    "                               content=neuron_metadata)\n",
    "client.instances.create(neuron_instance)"
   ]
  },
  {
   "cell_type": "code",
   "execution_count": null,
   "metadata": {},
   "outputs": [],
   "source": [
    "morphology_instance = Instance.create_new(organization=organization_name, \n",
    "                               domain=domain_name, \n",
    "                               schema=\"dataset\", \n",
    "                               version=\"v0.1.0\", \n",
    "                               content=morphology_metadata)\n",
    "client.instances.create(morphology_instance)"
   ]
  },
  {
   "cell_type": "code",
   "execution_count": null,
   "metadata": {},
   "outputs": [],
   "source": [
    "electrophysiology_instance = Instance.create_new(organization=organization_name, \n",
    "                               domain=domain_name, \n",
    "                               schema=\"dataset\", \n",
    "                               version=\"v0.1.0\", \n",
    "                               content=electrophysiology_metadata)\n",
    "client.instances.create(electrophysiology_instance)"
   ]
  },
  {
   "cell_type": "markdown",
   "metadata": {},
   "source": [
    "Check out your newly created data instances in [Nexus Explorer](https://bbp-nexus.epfl.ch/staging/explorer/)"
   ]
  },
  {
   "cell_type": "markdown",
   "metadata": {},
   "source": [
    "### 5-4 Update the latest instance\n",
    "\n",
    "After data has been stored in Nexus, it can be updated (e.g. if you want to provide a more detailed description or correct a typo). Take the payload of the last dataset instance you have created and update its description in the [JSON editor online](https://jsoneditoronline.org/). Paste the updated metadata as the value of the variable \"updated_electrophysiology_instance_data\" below:"
   ]
  },
  {
   "cell_type": "code",
   "execution_count": null,
   "metadata": {},
   "outputs": [],
   "source": [
    "updated_electrophysiology_instance_data = \"<PASTE THE UPDATED INSTANCE DATA HERE>\""
   ]
  },
  {
   "cell_type": "markdown",
   "metadata": {},
   "source": [
    "Using the updated payload, you can update your instance on Nexus:"
   ]
  },
  {
   "cell_type": "code",
   "execution_count": null,
   "metadata": {},
   "outputs": [],
   "source": [
    "electrophysiology_instance.data = updated_electrophysiology_instance_data\n",
    "client.instances.update(entity=electrophysiology_instance)"
   ]
  },
  {
   "cell_type": "markdown",
   "metadata": {},
   "source": [
    "Check out your updated data instance in [Nexus Explorer](https://bbp-nexus.epfl.ch/staging/explorer/)"
   ]
  },
  {
   "cell_type": "markdown",
   "metadata": {},
   "source": [
    "### 5-5 Attach binaries to the morphology and electrophysiology dataset instance\n",
    "\n",
    "Nexus allows one to store metadata as well as file attachments. The following steps help you attach the provided morphology file (.ASC file format) and the electrophysiology recording file (.IBW file format). Please provide the correct filenames (as found in the labook) and Nexus identifiers (accessible through Nexus Explorer > Identifier on the respective dataset instances) as the values of the variables below: "
   ]
  },
  {
   "cell_type": "code",
   "execution_count": null,
   "metadata": {},
   "outputs": [],
   "source": [
    "filename_morphology = \"n180301-ephys.ibw\"\n",
    "filename_electrophysiology = \"n180301-morpho.ASC\"\n",
    "\n",
    "morphology_dataset_id = morphology_instance.data[\"@id\"]\n",
    "electrophysiology_dataset_id = electrophysiology_instance.data[\"@id\"]\n",
    "\n",
    "morphology_dataset_revision = morphology_instance.data[\"nxv:rev\"]\n",
    "electrophysiology_dataset_revision = electrophysiology_instance.data[\"nxv:rev\"]"
   ]
  },
  {
   "cell_type": "markdown",
   "metadata": {},
   "source": [
    "Run the following code to attach the morphology file to the morphology dataset instance on Nexus:"
   ]
  },
  {
   "cell_type": "code",
   "execution_count": null,
   "metadata": {},
   "outputs": [],
   "source": [
    "base = 'https://github.com/NataliBarros/InSilicoNeuroscienceCourse/raw/master/'\n",
    "file_morphology = \"{}{}\".format(base,filename_morphology)\n",
    "r = requests.get(file_morphology)\n",
    "morphology_file =  r.content\n",
    "\n",
    "url = \"{}/attachment?rev={}\".format(morphology_dataset_id, morphology_dataset_revision)\n",
    "morphology = {'file': morphology_file}\n",
    "response = requests.put(url, files=morphology, \n",
    "                        headers={\"Authorization\": \"Bearer {}\".format(token)})\n",
    "\n",
    "if response.status_code < 400:\n",
    "    response_text = yaml.load(response.text)\n",
    "    pprint(json.dumps(response_text))\n",
    "else:\n",
    "     print(\"Status code: {}\".format(response.content))"
   ]
  },
  {
   "cell_type": "markdown",
   "metadata": {},
   "source": [
    "Run the following code to attach the electrophysiology file to the electrophysiology dataset instance on Nexus:"
   ]
  },
  {
   "cell_type": "code",
   "execution_count": null,
   "metadata": {},
   "outputs": [],
   "source": [
    "base = 'https://github.com/NataliBarros/InSilicoNeuroscienceCourse/raw/master/'\n",
    "file_electrophysiology = \"{}{}\".format(base,filename_electrophysiology)\n",
    "r = requests.get(file_electrophysiology)\n",
    "electrophysiology_file =  r.content\n",
    "\n",
    "url = \"{}/attachment?rev={}\".format(electrophysiology_dataset_id, electrophysiology_dataset_revision)\n",
    "electrophysiology = {'file': electrophysiology_file}\n",
    "response = requests.put(url, files=electrophysiology, \n",
    "                        headers={\"Authorization\": \"Bearer {}\".format(token)})\n",
    "\n",
    "if response.status_code < 400:\n",
    "    response_text = yaml.load(response.text)\n",
    "    pprint(json.dumps(response_text))\n",
    "else:\n",
    "     print(\"Status code: {}\".format(response.content))"
   ]
  },
  {
   "cell_type": "markdown",
   "metadata": {},
   "source": [
    "Check out your datasets with attachments using [Nexus Explorer](https://bbp-nexus.epfl.ch/staging/explorer/)"
   ]
  },
  {
   "cell_type": "markdown",
   "metadata": {},
   "source": [
    "### 5-6 Query Nexus to get instances of type Neuron (spanning all the domains in the sandbox organization)\n",
    "\n",
    "Now that you have created your schemas and validated real data instances against them, you can query Nexus to retrieve specific data. One example is to query for specific types. Since not only you but also your fellow students have put data into Nexus, you could e.g. try and filter data in Nexus by the type nsg:Neuron to retrieve all the data instances of that type. The query filter would look as follows:"
   ]
  },
  {
   "cell_type": "code",
   "execution_count": null,
   "metadata": {},
   "outputs": [],
   "source": [
    "query_filter = {\n",
    "  \"@context\": \"https://bbp-nexus.epfl.ch/staging/v0/contexts/neurosciencegraph/core/data/v1.0.4\",\n",
    "  \"filter\": {\n",
    "    \"op\": \"eq\",\n",
    "    \"path\": \"rdf:type\",\n",
    "    \"value\": \"nsg:Neuron\"\n",
    "  }\n",
    "}"
   ]
  },
  {
   "cell_type": "markdown",
   "metadata": {},
   "source": [
    "Execute the code below to see how many instances of type nsg:Neuron are available to you:"
   ]
  },
  {
   "cell_type": "code",
   "execution_count": null,
   "metadata": {},
   "outputs": [],
   "source": [
    "response = requests.post(\"https://bbp-nexus.epfl.ch/staging/v0/queries/sandbox\", \n",
    "                         json=query_filter, \n",
    "                         allow_redirects=False,\n",
    "                         headers={\"Authorization\": \"Bearer {}\".format(token)})\n",
    "get_response = requests.get(response.headers[\"Location\"])\n",
    "print(\"There are a total of {} instances of type nsg:Neuron in the sandbox organization of Nexus\".format(yaml.load(get_response.text)[\"total\"]))"
   ]
  },
  {
   "cell_type": "markdown",
   "metadata": {},
   "source": [
    "**THE END**"
   ]
  }
 ],
 "metadata": {
  "kernelspec": {
   "display_name": "Python 3",
   "language": "python",
   "name": "python3"
  },
  "language_info": {
   "codemirror_mode": {
    "name": "ipython",
    "version": 3
   },
   "file_extension": ".py",
   "mimetype": "text/x-python",
   "name": "python",
   "nbconvert_exporter": "python",
   "pygments_lexer": "ipython3",
   "version": "3.6.1"
  }
 },
 "nbformat": 4,
 "nbformat_minor": 2
}
