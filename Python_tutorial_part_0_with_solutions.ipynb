{
 "cells": [
  {
   "cell_type": "markdown",
   "metadata": {},
   "source": [
    "# Python 2 tutorial (introduction)"
   ]
  },
  {
   "cell_type": "markdown",
   "metadata": {
    "collapsed": true
   },
   "source": [
    "## Data types (numbers, strings, booleans)\n",
    "\n",
    "Python supports a variety of data types, some examples are docstring and comments, numbers (integers, floats), tuples, strings, booleans. "
   ]
  },
  {
   "cell_type": "code",
   "execution_count": 1,
   "metadata": {},
   "outputs": [],
   "source": [
    "\"\"\"\n",
    "This is a docstring. It's a good practice to document scripts \n",
    "by inserting such docstrings at their beginning.\n",
    "\"\"\"\n",
    "\n",
    "my_num1 = 4          # In this way we can write comments\n",
    "my_num2 = 4.0        # The \"=\" is used to do assign a value to a variable\n",
    "couple = (6,7)       # This type can have an arbitrary length. Try len(couple).\n",
    "\n",
    "name1 = 'What if: '  \n",
    "name2 = \"I add a string to a string?\" # Strings of characters can be defined with single or double quotes\n",
    "\n",
    "binary1 = True                        # Or 'False'."
   ]
  },
  {
   "cell_type": "code",
   "execution_count": 2,
   "metadata": {},
   "outputs": [
    {
     "name": "stdout",
     "output_type": "stream",
     "text": [
      "<type 'int'> <type 'float'> <type 'tuple'> <type 'str'> <type 'bool'>\n"
     ]
    }
   ],
   "source": [
    "# In Python there is no need to define the types of variable before, but we can always ask of what type they are.\n",
    "print type(my_num1), type(my_num2), type(couple), type(name1), type(binary1)"
   ]
  },
  {
   "cell_type": "markdown",
   "metadata": {},
   "source": [
    "## Operations\n",
    "For each data type there are some operations that can be performed on them, like arythmetic operations. There are also some useful mechanisms, e.g. asking for the documentation of an object."
   ]
  },
  {
   "cell_type": "code",
   "execution_count": 3,
   "metadata": {},
   "outputs": [
    {
     "name": "stdout",
     "output_type": "stream",
     "text": [
      "8.0\n",
      "16\n",
      "What if: I add a string to a string?\n"
     ]
    }
   ],
   "source": [
    "print my_num1 + my_num2\n",
    "print my_num1**2                 # Exponentiation           \n",
    "print name1 + name2"
   ]
  },
  {
   "cell_type": "markdown",
   "metadata": {},
   "source": [
    "We can (of course) perform arythmetics on numbers... but also on strings."
   ]
  },
  {
   "cell_type": "code",
   "execution_count": 4,
   "metadata": {},
   "outputs": [
    {
     "name": "stdout",
     "output_type": "stream",
     "text": [
      "I ADD A STRING TO A STRING?\n",
      "['__add__', '__class__', '__contains__', '__delattr__', '__doc__', '__eq__', '__format__', '__ge__', '__getattribute__', '__getitem__', '__getnewargs__', '__getslice__', '__gt__', '__hash__', '__init__', '__le__', '__len__', '__lt__', '__mod__', '__mul__', '__ne__', '__new__', '__reduce__', '__reduce_ex__', '__repr__', '__rmod__', '__rmul__', '__setattr__', '__sizeof__', '__str__', '__subclasshook__', '_formatter_field_name_split', '_formatter_parser', 'capitalize', 'center', 'count', 'decode', 'encode', 'endswith', 'expandtabs', 'find', 'format', 'index', 'isalnum', 'isalpha', 'isdigit', 'islower', 'isspace', 'istitle', 'isupper', 'join', 'ljust', 'lower', 'lstrip', 'partition', 'replace', 'rfind', 'rindex', 'rjust', 'rpartition', 'rsplit', 'rstrip', 'split', 'splitlines', 'startswith', 'strip', 'swapcase', 'title', 'translate', 'upper', 'zfill']\n"
     ]
    },
    {
     "data": {
      "text/plain": [
       "'S.split([sep [,maxsplit]]) -> list of strings\\n\\nReturn a list of the words in the string S, using sep as the\\ndelimiter string.  If maxsplit is given, at most maxsplit\\nsplits are done. If sep is not specified or is None, any\\nwhitespace string is a separator and empty strings are removed\\nfrom the result.'"
      ]
     },
     "execution_count": 4,
     "metadata": {},
     "output_type": "execute_result"
    }
   ],
   "source": [
    "print name2.upper()             # Python can do many things with strings...\n",
    "print dir(name2)                # ...here is a long list of all of them\n",
    "name2.split.__doc__              "
   ]
  },
  {
   "cell_type": "markdown",
   "metadata": {
    "collapsed": true
   },
   "source": [
    "__Ex.1: What does the \"split\" mechanisms do? Try it.__"
   ]
  },
  {
   "cell_type": "code",
   "execution_count": 5,
   "metadata": {},
   "outputs": [
    {
     "data": {
      "text/plain": [
       "['I', 'add', 'a', 'string', 'to', 'a', 'string?']"
      ]
     },
     "execution_count": 5,
     "metadata": {},
     "output_type": "execute_result"
    }
   ],
   "source": [
    "name2.split(' ') # Insert here your code"
   ]
  },
  {
   "cell_type": "markdown",
   "metadata": {},
   "source": [
    "## Lists\n",
    "\n",
    "Python lists are similar to arrays or vectors in other programming languages. They are ordered collections of elements and support indexing, among others properties."
   ]
  },
  {
   "cell_type": "code",
   "execution_count": 6,
   "metadata": {},
   "outputs": [],
   "source": [
    "items = [my_num1, couple, name1, 3]    # This is a list, it can contain any type of data, included in square brackets\n",
    "numbers = range(10)                    # Note that Python starts to count from 0"
   ]
  },
  {
   "cell_type": "code",
   "execution_count": 7,
   "metadata": {},
   "outputs": [
    {
     "name": "stdout",
     "output_type": "stream",
     "text": [
      "[0, 1, 2, 3, 4, 5, 6, 7, 8, 9]\n"
     ]
    }
   ],
   "source": [
    "print numbers"
   ]
  },
  {
   "cell_type": "code",
   "execution_count": 8,
   "metadata": {},
   "outputs": [
    {
     "name": "stdout",
     "output_type": "stream",
     "text": [
      "(6, 7)\n",
      "6\n",
      "at if:\n"
     ]
    }
   ],
   "source": [
    "print items[1]\n",
    "print items[1][0]                      # Lists and tuples support indexing.\n",
    "print items[2][2:8]                    # What does the \":\" do on types that support indexing?\n",
    "                                       # What does this tell us about type \"string\"?"
   ]
  },
  {
   "cell_type": "code",
   "execution_count": 9,
   "metadata": {},
   "outputs": [
    {
     "name": "stdout",
     "output_type": "stream",
     "text": [
      "[2, 3, 4, 5, 6, 7, 8, 9]\n",
      "[0, 1, 2, 3, 4]\n",
      "[2, 3, 4, 5, 6, 7]\n",
      "[2, 4, 6]\n",
      "[8, 7, 6, 5, 4, 3]\n"
     ]
    }
   ],
   "source": [
    "# Other examples on indexing\n",
    "print numbers[2:]            \n",
    "print numbers[:5]            \n",
    "print numbers[2:-2]          \n",
    "print numbers[2:-2:2]            \n",
    "print numbers[-2:2:-1]            \n"
   ]
  },
  {
   "cell_type": "markdown",
   "metadata": {},
   "source": [
    "__Ex. 2: How can we add an element to the end of a list? And in other position? Hint: try list + \".\" + TAB Key (only iPython support auto-completion).__"
   ]
  },
  {
   "cell_type": "code",
   "execution_count": 10,
   "metadata": {},
   "outputs": [
    {
     "name": "stdout",
     "output_type": "stream",
     "text": [
      "[4, (6, 7), 'What if: ', 3, 'new item']\n",
      "[4, 'new second element', (6, 7), 'What if: ', 3, 'new item']\n"
     ]
    }
   ],
   "source": [
    "# Add an elemend to end of the list \"items\"\n",
    "items.append('new item')\n",
    "print items\n",
    "\n",
    "# Add an element after the first element of the list\n",
    "items.insert(1,'new second element')\n",
    "print items"
   ]
  },
  {
   "cell_type": "code",
   "execution_count": 11,
   "metadata": {},
   "outputs": [
    {
     "name": "stdout",
     "output_type": "stream",
     "text": [
      "[10, 12, 14, 16, 18, 20, 22, 24, 26, 28]\n",
      "(10, 12, 14, 16, 18, 20, 22, 24, 26, 28)\n"
     ]
    }
   ],
   "source": [
    "# Lists and tuples are very similar...\n",
    "\n",
    "numbers_mut = range(10,30,2)\n",
    "numbers_immut = (10,12,14,16,18,20,22,24,26,28)\n",
    "print numbers_mut\n",
    "print numbers_immut"
   ]
  },
  {
   "cell_type": "code",
   "execution_count": 12,
   "metadata": {},
   "outputs": [
    {
     "name": "stdout",
     "output_type": "stream",
     "text": [
      "[1, 12, 14, 16, 18, 20, 22, 24, 26, 28]\n"
     ]
    }
   ],
   "source": [
    "# ...but not exactly the same\n",
    "\n",
    "numbers_mut[0] = 1\n",
    "print numbers_mut"
   ]
  },
  {
   "cell_type": "code",
   "execution_count": 13,
   "metadata": {},
   "outputs": [
    {
     "ename": "TypeError",
     "evalue": "'tuple' object does not support item assignment",
     "output_type": "error",
     "traceback": [
      "\u001b[1;31m---------------------------------------------------------------------------\u001b[0m",
      "\u001b[1;31mTypeError\u001b[0m                                 Traceback (most recent call last)",
      "\u001b[1;32m<ipython-input-13-1b0cd01c3ea6>\u001b[0m in \u001b[0;36m<module>\u001b[1;34m()\u001b[0m\n\u001b[1;32m----> 1\u001b[1;33m \u001b[0mnumbers_immut\u001b[0m\u001b[1;33m[\u001b[0m\u001b[1;36m0\u001b[0m\u001b[1;33m]\u001b[0m \u001b[1;33m=\u001b[0m \u001b[1;36m1\u001b[0m\u001b[1;33m\u001b[0m\u001b[0m\n\u001b[0m",
      "\u001b[1;31mTypeError\u001b[0m: 'tuple' object does not support item assignment"
     ]
    }
   ],
   "source": [
    "numbers_immut[0] = 1                  "
   ]
  },
  {
   "cell_type": "markdown",
   "metadata": {},
   "source": [
    "Lists are mutable types (i.e. can be modified after creation), while tuples are immutable!"
   ]
  },
  {
   "cell_type": "markdown",
   "metadata": {},
   "source": [
    "## Iterations and conditions\n",
    "\n",
    "Lists, tuples and strings are examples of iterable types, that means that we can perform repetitive operations on them. \n",
    "Indentation is a syntatic element of Python. To write a \"for-loop\" the first line starts with \"for\" and must end with \":\". The following lines inside the loop must be indented. A condition statement follows the same syntactic rules."
   ]
  },
  {
   "cell_type": "code",
   "execution_count": 14,
   "metadata": {},
   "outputs": [
    {
     "name": "stdout",
     "output_type": "stream",
     "text": [
      "['0 is even', '1 is odd', '2 is even', '3 is odd', '4 is even', '5 is odd', '6 is even', '7 is odd', '8 is even', '9 is odd']\n"
     ]
    }
   ],
   "source": [
    "# For loop that checks the parity of a list of integers\n",
    "\n",
    "result = []\n",
    "\n",
    "for num in numbers:                      # In Python we iterate on the elements of an array (and not on the indexes)\n",
    "    if num % 2 == 0:                     # What is the \"%\" operation? Note the difference betweeen \"=\" and \"==\"\n",
    "        result.append(\"%d is even\" %num)\n",
    "    elif num % 2 == 1:\n",
    "        result.append(\"%d is odd\" %num)  # This is called \"string formatting\", it let us to include into a string \n",
    "                                         # a type that is not a string.\n",
    "            \n",
    "print result        "
   ]
  },
  {
   "cell_type": "code",
   "execution_count": 15,
   "metadata": {},
   "outputs": [
    {
     "name": "stdout",
     "output_type": "stream",
     "text": [
      "['0 is even', '1 is odd', '2 is even', '3 is odd', '4 is even', '5 is odd', '6 is even', '7 is odd', '8 is even', '9 is odd']\n"
     ]
    }
   ],
   "source": [
    "# To write more \"pythonic\" code we use (list) comprehension\n",
    "\n",
    "print [\"%d is even\" %num if num % 2 == 0 else \"%d is odd\" %num for num in numbers]  "
   ]
  },
  {
   "cell_type": "markdown",
   "metadata": {},
   "source": [
    "## Dictionaries\n",
    "\n",
    "Dictionaries are another very useful data type. They are specified inside curly brackets and consist of pairs (or tuple) of key : values. Key and values can be of any type and not only strings as in language dictionaries."
   ]
  },
  {
   "cell_type": "code",
   "execution_count": 16,
   "metadata": {},
   "outputs": [
    {
     "data": {
      "text/plain": [
       "[-65, 'mV']"
      ]
     },
     "execution_count": 16,
     "metadata": {},
     "output_type": "execute_result"
    }
   ],
   "source": [
    "# Finally, some neuroscientic simple application: a dictionary of some electrophysiological proprierties (or features)\n",
    "# of a neuron.\n",
    "\n",
    "efel_features = {'corrected': [False,1],\n",
    "                 'spike_threshold': [-40, 'mV'], 'V_rest': [-65, 'mV'], \n",
    "                 'spike_frequency': [110, 'Hz'] , 'Time_to_first_spike': [70, 'ms']}\n",
    "\n",
    "efel_features['V_rest']              # Like this we can ask for the value of a particular key, just as we look up \n",
    "                                     # the meaning of a word in a dictionary. Any other examples?"
   ]
  },
  {
   "cell_type": "markdown",
   "metadata": {},
   "source": [
    "## Functions \n",
    "\n",
    "In programming, a function is a block of code that, usually, takes an input an returns an output. In Python, the first line of a function is preceeded by \"def\" and following lines are indented. The last line of a function defines the output variable(s), preceded by an optional \"return\" statement."
   ]
  },
  {
   "cell_type": "code",
   "execution_count": 17,
   "metadata": {
    "collapsed": true
   },
   "outputs": [],
   "source": [
    "def correct_voltage(features_dict, correction):\n",
    "    \n",
    "    \"\"\"\n",
    "    This is the usual way of documenting what a function does.\n",
    "    This function corrects voltage values in a dictionary of electrophysiological features.\n",
    "    \"\"\"\n",
    "    \n",
    "    new_dict = features_dict.copy()\n",
    "    corrected = False\n",
    "    for unit in new_dict.itervalues():    # Also dictionaries are iterable, we can iterate in their keys, values\n",
    "                                          # or keys-values pairs.\n",
    "        if new_dict['corrected'] == True:\n",
    "            break                         \n",
    "        else:\n",
    "            if unit[1] == 'mV':\n",
    "                unit[0] += correction\n",
    "                new_dict['corrected'] = True\n",
    "            \n",
    "    return new_dict  \n",
    "    "
   ]
  },
  {
   "cell_type": "code",
   "execution_count": 18,
   "metadata": {},
   "outputs": [
    {
     "name": "stdout",
     "output_type": "stream",
     "text": [
      "{'spike_frequency': [110, 'Hz'], 'corrected': True, 'spike_threshold': [-30, 'mV'], 'Time_to_first_spike': [70, 'ms'], 'V_rest': [-65, 'mV']}\n"
     ]
    }
   ],
   "source": [
    "# The following line calls the function with the appropriate number and types of arguments (inputs) and prints\n",
    "# the output. Calling the function in a script is not sufficient to see its output.\n",
    "\n",
    "print correct_voltage(efel_features,10) "
   ]
  },
  {
   "cell_type": "markdown",
   "metadata": {
    "collapsed": true
   },
   "source": [
    "## Classes\n",
    "\n",
    "Python is an \"objects-oriented\" programming languages. It means that user can define new classes. An object is an instance of a class. It includes a certain number of methods (= functions defined inside a class). In a class definition, the object itself is named \"self\". The self can have some attributes (= variable name inside a class definition) that can be retrieved from outside the class definition."
   ]
  },
  {
   "cell_type": "code",
   "execution_count": 19,
   "metadata": {},
   "outputs": [],
   "source": [
    "class Neuron:                   # Class names usually starts with a capital letter\n",
    "    \n",
    "    \"\"\"\n",
    "    Simple class for creating a neuron.\n",
    "    \"\"\"\n",
    "    \n",
    "    def __init__(self, name):   # Methods defined with \"__something__\" are special methods. For example the __init__\n",
    "                                # method is automatically called when we instatiate an object. It doesn't accept \n",
    "                                # \"return\" statements.\n",
    "        self.name = name\n",
    "    \n",
    "    def morphology(self, n_dend, n_branches):\n",
    "        self.morphology = {}\n",
    "        self.morphology['soma'] = {'sections': range(1)}\n",
    "        self.morphology['dendrites'] = {'sections':[[dend for dend in range(n_dend)] for branch in range(n_branches)]}\n",
    "        self.morphology['axon'] = {'sections':range(5)}\n",
    "        return self.morphology\n",
    "    \n",
    "    def biophysics(self, channels):\n",
    "        \"\"\"\n",
    "        Distribute channels on neuron sections\n",
    "        \"\"\"\n",
    "        self.biophysics = {name:list(channels) for name in self.morphology.iterkeys()}           \n",
    "        self.biophysics['axon'] = channels[:2]\n",
    "        self.biophysics['dendrites'].remove('NaT')\n",
    "        return self.biophysics"
   ]
  },
  {
   "cell_type": "code",
   "execution_count": 20,
   "metadata": {},
   "outputs": [],
   "source": [
    "# This is the instations of a class. It takes as arguments the ones specified in the __init__ method.\n",
    "\n",
    "my_neuron = Neuron('dummy_neuron')"
   ]
  },
  {
   "cell_type": "code",
   "execution_count": 21,
   "metadata": {
    "scrolled": true
   },
   "outputs": [
    {
     "name": "stdout",
     "output_type": "stream",
     "text": [
      "{'soma': {'sections': [0]}, 'dendrites': {'sections': [[0, 1, 2, 3, 4, 5, 6], [0, 1, 2, 3, 4, 5, 6], [0, 1, 2, 3, 4, 5, 6], [0, 1, 2, 3, 4, 5, 6], [0, 1, 2, 3, 4, 5, 6], [0, 1, 2, 3, 4, 5, 6], [0, 1, 2, 3, 4, 5, 6], [0, 1, 2, 3, 4, 5, 6], [0, 1, 2, 3, 4, 5, 6], [0, 1, 2, 3, 4, 5, 6], [0, 1, 2, 3, 4, 5, 6], [0, 1, 2, 3, 4, 5, 6], [0, 1, 2, 3, 4, 5, 6], [0, 1, 2, 3, 4, 5, 6], [0, 1, 2, 3, 4, 5, 6]]}, 'axon': {'sections': [0, 1, 2, 3, 4]}}\n"
     ]
    }
   ],
   "source": [
    "num_dend = 7\n",
    "num_branches = 15\n",
    "\n",
    "# We call a class method by specifing the object + '.' + method name. Note that the \"self\" inside the\n",
    "# class definition is replaced by the object name outside.\n",
    "\n",
    "print my_neuron.morphology(num_dend, num_branches)"
   ]
  },
  {
   "cell_type": "code",
   "execution_count": 22,
   "metadata": {},
   "outputs": [
    {
     "name": "stdout",
     "output_type": "stream",
     "text": [
      "{'soma': ['NaT', 'Kv3.1', 'CaT', 'KCa3.1', 'HCN'], 'dendrites': ['Kv3.1', 'CaT', 'KCa3.1', 'HCN'], 'axon': ['NaT', 'Kv3.1']}\n"
     ]
    }
   ],
   "source": [
    "ion_channels = ['NaT', 'Kv3.1', 'CaT', 'KCa3.1','HCN']\n",
    "\n",
    "print my_neuron.biophysics(ion_channels)"
   ]
  },
  {
   "cell_type": "code",
   "execution_count": 23,
   "metadata": {},
   "outputs": [
    {
     "name": "stdout",
     "output_type": "stream",
     "text": [
      "['__doc__', '__init__', '__module__', 'biophysics', 'morphology', 'name']\n",
      "\n",
      "    Simple class for creating a neuron.\n",
      "    \n"
     ]
    }
   ],
   "source": [
    "# Now you can have a more direct feeling of the \"dir\" and \"__doc__\" mechanisms\n",
    "\n",
    "print dir(my_neuron)\n",
    "print my_neuron.__doc__"
   ]
  }
 ],
 "metadata": {
  "kernelspec": {
   "display_name": "Python 2",
   "language": "python",
   "name": "python2"
  },
  "language_info": {
   "codemirror_mode": {
    "name": "ipython",
    "version": 2
   },
   "file_extension": ".py",
   "mimetype": "text/x-python",
   "name": "python",
   "nbconvert_exporter": "python",
   "pygments_lexer": "ipython2",
   "version": "2.7.14"
  }
 },
 "nbformat": 4,
 "nbformat_minor": 1
}
